{
 "cells": [
  {
   "cell_type": "code",
   "execution_count": 1,
   "metadata": {},
   "outputs": [
    {
     "name": "stdout",
     "output_type": "stream",
     "text": [
      "Peligro, un asteroide se acerca\n"
     ]
    }
   ],
   "source": [
    "# Añadir el código necesario para crear una variable que guarde la velocidad del asteroide.\n",
    "# Escribe una expresión de prueba para calcular si necesita una advertencia.\n",
    "# Agregue las instrucciones que se ejecutarán si la expresión de prueba es true o false.\n",
    "\n",
    "asteroide = 49\n",
    "if asteroide > 25:\n",
    "    print('Peligro, un asteroide se acerca')\n",
    "else:\n",
    "    print('Sin alertas')\n"
   ]
  },
  {
   "cell_type": "code",
   "execution_count": 2,
   "metadata": {},
   "outputs": [
    {
     "name": "stdout",
     "output_type": "stream",
     "text": [
      "No hay nada que ver\n"
     ]
    }
   ],
   "source": [
    "# Agrega el codigo para crear una variable para un asteroide que viaja a 19 km/s\n",
    "# Escribe varias expresiones de prueba para determinar si puedes ver el rayo de luz desde la tierra\n",
    "# Agrega las instrucciones que se ejecutaran si las expresiones de prueba son True o False\n",
    "\n",
    "asteroide = 19\n",
    "if asteroide > 20:\n",
    "    print('Hay una luz en el cielo')\n",
    "elif asteroide == 20:\n",
    "    print('Mira la luz en el cielo')\n",
    "else:\n",
    "    print('No hay nada que ver')"
   ]
  },
  {
   "cell_type": "code",
   "execution_count": 5,
   "metadata": {},
   "outputs": [
    {
     "name": "stdout",
     "output_type": "stream",
     "text": [
      "Hay una luz en el cielo\n"
     ]
    }
   ],
   "source": [
    "# Agrega el codigo para crear nuevas variables para la velocidad y el tamaño del asteroide\n",
    "# Para probar el codigo, prueba con varias velocidades y tamaños\n",
    "# Escribe varias expresiones de prueba o combinaciones de expresiones de prueba para determinar que mensaje se debe enviar a la tierra\n",
    "\n",
    "vel_asteroide = 90\n",
    "tam_asteroide = 35\n",
    "if vel_asteroide > 42 and tam_asteroide > 92:\n",
    "    print('Alerta, asteroide peligroso')\n",
    "elif vel_asteroide >= 20:\n",
    "    print('Hay una luz en el cielo')\n",
    "elif tam_asteroide < 25:\n",
    "    print('Sin preocupaciones')\n",
    "else:\n",
    "    print('Sin alertas')"
   ]
  }
 ],
 "metadata": {
  "interpreter": {
   "hash": "01c5b917b64f0638ac3e07f2a23fe1b370c7f6b7ff894b3b44907f98b9925d90"
  },
  "kernelspec": {
   "display_name": "Python 3.9.10 64-bit",
   "language": "python",
   "name": "python3"
  },
  "language_info": {
   "codemirror_mode": {
    "name": "ipython",
    "version": 3
   },
   "file_extension": ".py",
   "mimetype": "text/x-python",
   "name": "python",
   "nbconvert_exporter": "python",
   "pygments_lexer": "ipython3",
   "version": "3.9.10"
  },
  "orig_nbformat": 4
 },
 "nbformat": 4,
 "nbformat_minor": 2
}
